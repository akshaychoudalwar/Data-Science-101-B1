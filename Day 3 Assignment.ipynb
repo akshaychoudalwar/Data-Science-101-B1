{
 "cells": [
  {
   "cell_type": "markdown",
   "metadata": {},
   "source": [
    "# question 1"
   ]
  },
  {
   "cell_type": "markdown",
   "metadata": {},
   "source": [
    "Create a numpy array starting from 2 till 50 with a stepsize of 3."
   ]
  },
  {
   "cell_type": "code",
   "execution_count": 2,
   "metadata": {},
   "outputs": [
    {
     "name": "stdout",
     "output_type": "stream",
     "text": [
      "[ 2  5  8 11 14 17 20 23 26 29 32 35 38 41 44 47]\n"
     ]
    }
   ],
   "source": [
    "import numpy as np\n",
    "\n",
    "#printing array using numpy arange\n",
    "x = np.arange(start=2, stop= 50, step=3)\n",
    "\n",
    "#printing array\n",
    "print(x)  "
   ]
  },
  {
   "cell_type": "markdown",
   "metadata": {},
   "source": [
    "# question 2 "
   ]
  },
  {
   "cell_type": "markdown",
   "metadata": {},
   "source": [
    "Accept two lists of 5 elements each from the user.\n",
    "Convert them to numpy arrays. Concatenate these arrays and print it. Also sort these arrays and print it."
   ]
  },
  {
   "cell_type": "code",
   "execution_count": 7,
   "metadata": {},
   "outputs": [
    {
     "name": "stdout",
     "output_type": "stream",
     "text": [
      "enter value for list1:2\n",
      "enter value for list1:1\n",
      "enter value for list1:4\n",
      "enter value for list1:3\n",
      "enter value for list1:6\n",
      "enter value for list2:5\n",
      "enter value for list2:8\n",
      "enter value for list2:7\n",
      "enter value for list2:9\n",
      "enter value for list2:8\n",
      "concatenated array value: [2 1 4 3 6 5 8 7 9 8]\n",
      "sorted array value: [1 2 3 4 5 6 7 8 8 9]\n"
     ]
    }
   ],
   "source": [
    "import numpy as np\n",
    "\n",
    "#creating two empty list\n",
    "list1=[]\n",
    "list2=[]\n",
    "\n",
    "#getting user input from list1\n",
    "for i in range(5):\n",
    "    x= int(input(\"enter value for list1:\")) \n",
    "    list1.append(x)\n",
    "        \n",
    "#getting user input from list2\n",
    "for i in range (5):\n",
    "    y= int(input(\"enter value for list2:\")) \n",
    "    list2.append(y)\n",
    "    \n",
    "#converting lists into array\n",
    "arr1= np.array(list1)\n",
    "arr2= np.array(list2)\n",
    "\n",
    "#concatenating arrays \n",
    "arr= np.concatenate((arr1,arr2))\n",
    "print(\"concatenated array value:\",arr)\n",
    "\n",
    "#sorting concatnated arrays\n",
    "sortarr= np.sort(arr)\n",
    "print(\"sorted array value:\",sortarr)\n"
   ]
  },
  {
   "cell_type": "markdown",
   "metadata": {},
   "source": [
    "# question 3"
   ]
  },
  {
   "cell_type": "markdown",
   "metadata": {},
   "source": [
    "Write a code snippet to find the dimensions of a ndarray and its size."
   ]
  },
  {
   "cell_type": "markdown",
   "metadata": {},
   "source": [
    "#Answer\n",
    "code snippet for finding dimension: ArrayName.ndim, \n",
    "code snippet for finding size: ArrayName.size\n",
    "        "
   ]
  },
  {
   "cell_type": "code",
   "execution_count": 3,
   "metadata": {},
   "outputs": [
    {
     "name": "stdout",
     "output_type": "stream",
     "text": [
      "dimension of array: 2\n",
      "shape of array: (2, 3)\n",
      "size of array: 6\n"
     ]
    }
   ],
   "source": [
    "import numpy as np\n",
    "\n",
    "# Creating array object\n",
    "arr= np.array([[1,2,3],\n",
    "               [3,4,5]])\n",
    "# Printing array dimensions \n",
    "print(\"dimension of array:\",arr.ndim)\n",
    "\n",
    "# Printing shape of array\n",
    "print(\"shape of array:\",arr.shape)\n",
    "\n",
    "# Printing size of array\n",
    "print(\"size of array:\",arr.size)"
   ]
  },
  {
   "cell_type": "markdown",
   "metadata": {},
   "source": [
    "# question 4"
   ]
  },
  {
   "cell_type": "markdown",
   "metadata": {},
   "source": [
    "How to convert a 1D array into a 2D array? Demonstrate with the help of a code snippet\n",
    "Hint: np.newaxis, np.expand_dims"
   ]
  },
  {
   "cell_type": "markdown",
   "metadata": {},
   "source": [
    "#Answer\n",
    "code snippet for newaxis snippet:\n",
    "ArrayName[numpy.newaxis, :] for row, \n",
    "ArrayName[:, numpy.newaxis] for column \n"
   ]
  },
  {
   "cell_type": "code",
   "execution_count": 13,
   "metadata": {},
   "outputs": [
    {
     "name": "stdout",
     "output_type": "stream",
     "text": [
      "Shape of Array: (20,)\n",
      "Shape of 2d Array in row : (1, 20)\n",
      "Shape of 2d Array in column: (20, 1)\n"
     ]
    }
   ],
   "source": [
    "import numpy as np\n",
    "\n",
    "# creating a 1d array\n",
    "arr = np.arange(20)\n",
    "print(\"Shape of Array:\",arr.shape)\n",
    "\n",
    "# converting using newaxis in row wise\n",
    "row_arr = arr[np.newaxis, :]\n",
    "print(\"Shape of 2d Array in row :\",row_arr.shape)\n",
    "\n",
    "# converting using newaxis in column wise\n",
    "col_arr = arr[:, np.newaxis]\n",
    "print(\"Shape of 2d Array in column:\",col_arr.shape)"
   ]
  },
  {
   "cell_type": "markdown",
   "metadata": {},
   "source": [
    "#Answer\n",
    "code snippet for expand_dims snippet:\n",
    "    \n",
    "numpy.expand_dims(ArrayName, axis = 0) for row,  \n",
    "numpy.expand_dims(ArrayName, axis = 1) for column "
   ]
  },
  {
   "cell_type": "code",
   "execution_count": 14,
   "metadata": {},
   "outputs": [
    {
     "name": "stdout",
     "output_type": "stream",
     "text": [
      "Shape of Array : (20,)\n",
      "hape of 2d Array in row : (1, 20)\n",
      "Shape of 2d Array in column : (20, 1)\n"
     ]
    }
   ],
   "source": [
    "import numpy as np\n",
    "\n",
    "# creating 1d array\n",
    "arr = np.arange(20)\n",
    "print(\"Shape of Array :\",arr.shape)\n",
    "\n",
    "# converting using expand_dims in row wise\n",
    "row_arr = np.expand_dims(arr, axis=0)\n",
    "print(\"hape of 2d Array in row :\",row_arr.shape)\n",
    "\n",
    "# converting using expand_dims in column wise\n",
    "col_arr = np.expand_dims(arr, axis=1)\n",
    "print(\"Shape of 2d Array in column :\",col_arr.shape)"
   ]
  },
  {
   "cell_type": "markdown",
   "metadata": {},
   "source": [
    "# question 5"
   ]
  },
  {
   "cell_type": "markdown",
   "metadata": {},
   "source": [
    "Consider two square numpy arrays. Stack them vertically and horizontally.\n",
    "Hint: Use vstack(), hstack()"
   ]
  },
  {
   "cell_type": "code",
   "execution_count": 8,
   "metadata": {},
   "outputs": [
    {
     "name": "stdout",
     "output_type": "stream",
     "text": [
      "Arrays Horizontally: [ 1  4  9 16 36 49 64 81]\n",
      "Arrays Vertically: [[ 1  4  9 16]\n",
      " [36 49 64 81]]\n"
     ]
    }
   ],
   "source": [
    "import numpy as np\n",
    "\n",
    "# creating a array with square values\n",
    "arr1 = np.square([1, 2, 3, 4])\n",
    "arr2 = np.square([6, 7, 8, 9])\n",
    "\n",
    "# stacking and printing the values\n",
    "print(\"Arrays Horizontally:\", np.hstack((arr1, arr2)))\n",
    "print(\"Arrays Vertically:\", np.vstack((arr1, arr2)))"
   ]
  },
  {
   "cell_type": "markdown",
   "metadata": {},
   "source": [
    "# question 6"
   ]
  },
  {
   "cell_type": "markdown",
   "metadata": {},
   "source": [
    "How to get unique items and counts of unique items?"
   ]
  },
  {
   "cell_type": "markdown",
   "metadata": {},
   "source": [
    "#Answer\n",
    "\n",
    "Unique method in numpy is used to find the unique values from the list and\n",
    "return count attribute of unique method return the count of unique value from the list"
   ]
  },
  {
   "cell_type": "code",
   "execution_count": 6,
   "metadata": {},
   "outputs": [
    {
     "name": "stdout",
     "output_type": "stream",
     "text": [
      "Unique values from array: [11 12 13 14 15 16 17]\n",
      "Counts of unique values: [4 2 3 2 1 1 1]\n"
     ]
    }
   ],
   "source": [
    "import numpy as np\n",
    "arr = np.array([11, 11, 12, 13, 14, 11, 15, 16, 17, 12, 13, 11, 13, 14,])\n",
    "\n",
    "# Get unique values from a numpy array\n",
    "uniqueValues, uniqueCounts = np.unique(arr, return_counts=True)\n",
    "\n",
    "# printing unique values and counts from a numpy array\n",
    "print(\"Unique values from array:\",uniqueValues)\n",
    "print(\"Counts of unique values:\",uniqueCounts)"
   ]
  }
 ],
 "metadata": {
  "kernelspec": {
   "display_name": "Python 3",
   "language": "python",
   "name": "python3"
  },
  "language_info": {
   "codemirror_mode": {
    "name": "ipython",
    "version": 3
   },
   "file_extension": ".py",
   "mimetype": "text/x-python",
   "name": "python",
   "nbconvert_exporter": "python",
   "pygments_lexer": "ipython3",
   "version": "3.8.3"
  }
 },
 "nbformat": 4,
 "nbformat_minor": 4
}
