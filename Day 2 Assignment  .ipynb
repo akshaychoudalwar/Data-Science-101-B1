{
 "cells": [
  {
   "cell_type": "markdown",
   "metadata": {},
   "source": [
    "# question 1"
   ]
  },
  {
   "cell_type": "code",
   "execution_count": null,
   "metadata": {},
   "outputs": [],
   "source": [
    "Create an empty list. Accept 10 numbers from the user and append to it the list if it is an even number."
   ]
  },
  {
   "cell_type": "code",
   "execution_count": 1,
   "metadata": {},
   "outputs": [
    {
     "name": "stdout",
     "output_type": "stream",
     "text": [
      "1\n",
      "2\n",
      "3\n",
      "4\n",
      "5\n",
      "6\n",
      "7\n",
      "8\n",
      "9\n",
      "0\n",
      "[2, 4, 6, 8, 0]\n"
     ]
    }
   ],
   "source": [
    "list = []\n",
    "\n",
    "for i in range(10):\n",
    "    number = int(input())\n",
    "    if number%2==0:\n",
    "    list.append(number)\n",
    "print(list)"
   ]
  },
  {
   "cell_type": "markdown",
   "metadata": {},
   "source": [
    "# question 2"
   ]
  },
  {
   "cell_type": "code",
   "execution_count": null,
   "metadata": {},
   "outputs": [],
   "source": [
    "Create a notebook on LIST COMPREHENSION. This exercise is to put you in a Self learning mode."
   ]
  },
  {
   "cell_type": "code",
   "execution_count": null,
   "metadata": {},
   "outputs": [],
   "source": [
    "#ANSWER: \n",
    "\n",
    "COMPREHENSION in Python provide us with a short and very concise way to create new sequences like \n",
    "list, \n",
    "set, \n",
    "dictionary . \n",
    "one of them is LIST COMPREHENSION. \n",
    "List Comprehensions provide an elegant way to create new lists or way to apply a function or filter to a list of items.\n",
    "\n",
    "The basic syntex of a  list comprehension:  \n",
    "output_list = [output_expression for var in input_list if (var satisfies this condition)]\n",
    "\n",
    "Below are some exapmles: "
   ]
  },
  {
   "cell_type": "code",
   "execution_count": null,
   "metadata": {},
   "outputs": [],
   "source": [
    "#EXAMPLE 1: lets assume,we want to create program for an output list which contains only the even numbers which are present in  the input list.\n",
    "\n",
    "#INPUT: \n",
    "\n",
    " input_list = [1, 2, 3, 4, 4, 5, 6, 7, 7] \n",
    "  \n",
    "  list_using_comprehension = [var for var in input_list if var % 2 == 0] \n",
    "  \n",
    " print(\"Output List using list comprehensions:\",list_using_comp) \n",
    "\n",
    "#OUTPUT:\n",
    "\n",
    " Output List using list comprehensions: [2, 4, 4, 6]"
   ]
  },
  {
   "cell_type": "code",
   "execution_count": null,
   "metadata": {},
   "outputs": [],
   "source": [
    "#EXAMPLE 2: suppose, you want to calculate the square of each number in a list.\n",
    "\n",
    "#INPUT:\n",
    " \n",
    "list = [1, 2, 3, 4, 5, 6, 7, 8, 9, 10]\n",
    "    squares = [x**2 for x in list]\n",
    "    print(squares)\n",
    "    \n",
    "#OUTPUT:\n",
    "\n",
    "  [1, 4, 9, 16, 25, 36, 49, 64, 81, 100]\n"
   ]
  },
  {
   "cell_type": "code",
   "execution_count": null,
   "metadata": {},
   "outputs": [],
   "source": [
    "#EXAMPLE 3: List comprehensions can also be used to iterate over strings, lets write a program to show list in string. \n",
    "\n",
    "#INPUT:\n",
    "\n",
    "list = [\"Hello\", \"World\", \"In\", \"Python\"]\n",
    "\n",
    "  small_list = [str.lower() for str in list]\n",
    "\n",
    "    print(small_list) \n",
    "\n",
    "#OUTPUT: \n",
    "\n",
    "['hello', 'world', 'in', 'python']\n"
   ]
  },
  {
   "cell_type": "markdown",
   "metadata": {},
   "source": [
    "# question 3"
   ]
  },
  {
   "cell_type": "code",
   "execution_count": null,
   "metadata": {},
   "outputs": [],
   "source": [
    "In this assignment, given a number n, you have to write a program that generates a dictionary d which\n",
    "contains (i, i*i), where i is from 1 to n (both included).\n",
    "Then you have to just print this dictionary d."
   ]
  },
  {
   "cell_type": "code",
   "execution_count": 3,
   "metadata": {},
   "outputs": [
    {
     "name": "stdout",
     "output_type": "stream",
     "text": [
      "6\n",
      "{1: 1, 2: 4, 3: 9, 4: 16, 5: 25, 6: 36}\n"
     ]
    }
   ],
   "source": [
    "#dictionary\n",
    "\n",
    "y=int(input())\n",
    "d = dict()\n",
    "\n",
    "for i in range(1,1+y):\n",
    "    d[i]= (i*i)\n",
    "print(d) "
   ]
  },
  {
   "cell_type": "markdown",
   "metadata": {},
   "source": [
    "# question 4"
   ]
  },
  {
   "cell_type": "code",
   "execution_count": null,
   "metadata": {},
   "outputs": [],
   "source": [
    "#prgram scenario-\n",
    "There is a robot which wants to go the charging point to charge itself.\n",
    "The robot moves in a 2-D plane from the original point (0,0). The robot can\n",
    "move toward UP, DOWN, LEFT and RIGHT with given steps.\n",
    "The trace of robot movement is shown as the following:\n",
    "UP 5\n",
    "DOWN 3\n",
    "LEFT 3\n",
    "RIGHT 2\n",
    "Then, the output of the program should be:\n",
    "2\n",
    "The numbers after the direction are steps.\n",
    "\n",
    "#Write a program to compute the distance between the current position after\n",
    "a sequence of movement and original point. If the distance is a float, then\n",
    "just print the nearest integer (use round() function for that and then convert\n",
    "it into an integer)."
   ]
  },
  {
   "cell_type": "code",
   "execution_count": 2,
   "metadata": {},
   "outputs": [
    {
     "name": "stdout",
     "output_type": "stream",
     "text": [
      "enter in UP/DOWN/LEFT/RIGHT and step number= 4\n",
      "enter in UP/DOWN/LEFT/RIGHT and step number= UP 5\n",
      "enter in UP/DOWN/LEFT/RIGHT and step number= DOWN 3\n",
      "enter in UP/DOWN/LEFT/RIGHT and step number= LEFT 3\n",
      "enter in UP/DOWN/LEFT/RIGHT and step number= RIGHT 2\n",
      "enter in UP/DOWN/LEFT/RIGHT and step number= \n",
      "Distance: 2\n"
     ]
    }
   ],
   "source": [
    "import math\n",
    "\n",
    "x, y = 0, 0\n",
    "\n",
    "while True:\n",
    "    step = input(\"enter in UP/DOWN/LEFT/RIGHT and step number= \")\n",
    "\n",
    "    if step == \"\":\n",
    "        break\n",
    "\n",
    "    else:\n",
    "        step = step.split(\" \")\n",
    "\n",
    "        if step[0] == \"UP\":\n",
    "            y = y + int(step[1])\n",
    "        elif step[0] == \"DOWN\":\n",
    "            y = y - int(step[1])\n",
    "        elif step[0] == \"LEFT\":\n",
    "            x = x - int(step[1])\n",
    "        elif step[0] == \"RIGHT\":\n",
    "            x = x + int(step[1])\n",
    "\n",
    "z = round(math.sqrt(x**2 + y**2))\n",
    "\n",
    "print(\"Distance:\", z)"
   ]
  }
 ],
 "metadata": {
  "kernelspec": {
   "display_name": "Python 3",
   "language": "python",
   "name": "python3"
  },
  "language_info": {
   "codemirror_mode": {
    "name": "ipython",
    "version": 3
   },
   "file_extension": ".py",
   "mimetype": "text/x-python",
   "name": "python",
   "nbconvert_exporter": "python",
   "pygments_lexer": "ipython3",
   "version": "3.8.3"
  }
 },
 "nbformat": 4,
 "nbformat_minor": 4
}
